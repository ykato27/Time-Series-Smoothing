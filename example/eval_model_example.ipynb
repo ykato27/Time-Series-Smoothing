{
 "cells": [
  {
   "cell_type": "markdown",
   "metadata": {},
   "source": [
    "## eval_model.pyのexample"
   ]
  },
  {
   "cell_type": "code",
   "execution_count": 1,
   "metadata": {},
   "outputs": [],
   "source": [
    "import numpy as np\n",
    "from numpy.random import random\n",
    "import os\n",
    "import sys\n",
    "sys.path.insert(0, os.path.abspath(\"../\"))\n",
    "\n",
    "from src.evaluation import eval_model as em"
   ]
  },
  {
   "cell_type": "code",
   "execution_count": 2,
   "metadata": {},
   "outputs": [],
   "source": [
    "n = 100\n",
    "true = random(n)\n",
    "pred = random(n)"
   ]
  },
  {
   "cell_type": "code",
   "execution_count": 3,
   "metadata": {},
   "outputs": [
    {
     "data": {
      "text/plain": [
       "array([0.35978568, 0.49519856, 0.46546987, 0.09767552, 0.33053674,\n",
       "       0.52747179, 0.1976823 , 0.44440677, 0.03275626, 0.81111185,\n",
       "       0.14624275, 0.54553337, 0.73372705, 0.52840511, 0.57533133,\n",
       "       0.88670636, 0.23941233, 0.5976093 , 0.95495806, 0.44704323,\n",
       "       0.27642782, 0.96208603, 0.89273847, 0.24894818, 0.14904132,\n",
       "       0.39263794, 0.37445249, 0.98894654, 0.8792528 , 0.77502468,\n",
       "       0.65313528, 0.22787415, 0.465808  , 0.57093585, 0.51046539,\n",
       "       0.46805547, 0.89990247, 0.24157293, 0.80343288, 0.68442542,\n",
       "       0.72571939, 0.08701148, 0.23851029, 0.83072474, 0.63175161,\n",
       "       0.31798198, 0.23951832, 0.24339867, 0.89114942, 0.04173563,\n",
       "       0.98521423, 0.53867464, 0.56021529, 0.98838829, 0.96441603,\n",
       "       0.86900805, 0.08377197, 0.39672398, 0.79185059, 0.90938411,\n",
       "       0.30000995, 0.53393759, 0.37064964, 0.38131021, 0.34735615,\n",
       "       0.67666512, 0.5101957 , 0.60450629, 0.23312362, 0.78230254,\n",
       "       0.78960572, 0.50176432, 0.30252068, 0.41250699, 0.83523064,\n",
       "       0.3097833 , 0.03158534, 0.46720007, 0.33864966, 0.05217077,\n",
       "       0.21054303, 0.53661065, 0.65139094, 0.54699306, 0.63630658,\n",
       "       0.61911315, 0.1632114 , 0.48781565, 0.76195167, 0.52183469,\n",
       "       0.16895545, 0.57878104, 0.29280062, 0.07678364, 0.1190672 ,\n",
       "       0.12293252, 0.85182506, 0.52003796, 0.06567184, 0.99111164])"
      ]
     },
     "execution_count": 3,
     "metadata": {},
     "output_type": "execute_result"
    }
   ],
   "source": [
    "true"
   ]
  },
  {
   "cell_type": "code",
   "execution_count": 4,
   "metadata": {},
   "outputs": [
    {
     "data": {
      "text/html": [
       "<div>\n",
       "<style scoped>\n",
       "    .dataframe tbody tr th:only-of-type {\n",
       "        vertical-align: middle;\n",
       "    }\n",
       "\n",
       "    .dataframe tbody tr th {\n",
       "        vertical-align: top;\n",
       "    }\n",
       "\n",
       "    .dataframe thead th {\n",
       "        text-align: right;\n",
       "    }\n",
       "</style>\n",
       "<table border=\"1\" class=\"dataframe\">\n",
       "  <thead>\n",
       "    <tr style=\"text-align: right;\">\n",
       "      <th></th>\n",
       "      <th>R2</th>\n",
       "      <th>MAE</th>\n",
       "      <th>MSE</th>\n",
       "      <th>RMSE</th>\n",
       "      <th>RMSLE</th>\n",
       "      <th>MAPE</th>\n",
       "      <th>SMAPE</th>\n",
       "    </tr>\n",
       "  </thead>\n",
       "  <tbody>\n",
       "    <tr>\n",
       "      <th>0</th>\n",
       "      <td>-1.120819</td>\n",
       "      <td>0.305303</td>\n",
       "      <td>0.159649</td>\n",
       "      <td>0.399562</td>\n",
       "      <td>0.273986</td>\n",
       "      <td>137.605236</td>\n",
       "      <td>69.0316</td>\n",
       "    </tr>\n",
       "  </tbody>\n",
       "</table>\n",
       "</div>"
      ],
      "text/plain": [
       "         R2       MAE       MSE      RMSE     RMSLE        MAPE    SMAPE\n",
       "0 -1.120819  0.305303  0.159649  0.399562  0.273986  137.605236  69.0316"
      ]
     },
     "execution_count": 4,
     "metadata": {},
     "output_type": "execute_result"
    }
   ],
   "source": [
    "em.eval_metric(true, pred)"
   ]
  },
  {
   "cell_type": "code",
   "execution_count": null,
   "metadata": {},
   "outputs": [],
   "source": []
  }
 ],
 "metadata": {
  "kernelspec": {
   "display_name": "Python 3",
   "language": "python",
   "name": "python3"
  },
  "language_info": {
   "codemirror_mode": {
    "name": "ipython",
    "version": 3
   },
   "file_extension": ".py",
   "mimetype": "text/x-python",
   "name": "python",
   "nbconvert_exporter": "python",
   "pygments_lexer": "ipython3",
   "version": "3.7.6"
  }
 },
 "nbformat": 4,
 "nbformat_minor": 4
}
